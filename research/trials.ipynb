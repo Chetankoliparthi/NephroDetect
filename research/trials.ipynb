{
 "cells": [
  {
   "cell_type": "code",
   "execution_count": 1,
   "metadata": {},
   "outputs": [],
   "source": [
    "import gdown"
   ]
  },
  {
   "cell_type": "code",
   "execution_count": 2,
   "metadata": {},
   "outputs": [],
   "source": [
    "url =\"https://drive.google.com/file/d/17IyAJKaY4vERVzQY8BiL0AaEJyi5rmpm/view?usp=sharing\""
   ]
  },
  {
   "cell_type": "code",
   "execution_count": 5,
   "metadata": {},
   "outputs": [],
   "source": [
    "file_id = url.split(\"/\")[-2]"
   ]
  },
  {
   "cell_type": "code",
   "execution_count": 6,
   "metadata": {},
   "outputs": [
    {
     "name": "stderr",
     "output_type": "stream",
     "text": [
      "Downloading...\n",
      "From (original): https://drive.google.com/uc?export=view&id=17IyAJKaY4vERVzQY8BiL0AaEJyi5rmpm\n",
      "From (redirected): https://drive.google.com/uc?export=view&id=17IyAJKaY4vERVzQY8BiL0AaEJyi5rmpm&confirm=t&uuid=6952b570-0536-4d94-9083-b07b5125ad54\n",
      "To: c:\\Users\\chetankoliparthi\\OneDrive\\Documents\\projects\\dl project(end to end)\\NephroDetect\\research\\nephro-dataset.zip\n",
      "100%|██████████| 57.7M/57.7M [00:17<00:00, 3.21MB/s]\n"
     ]
    },
    {
     "data": {
      "text/plain": [
       "'nephro-dataset.zip'"
      ]
     },
     "execution_count": 6,
     "metadata": {},
     "output_type": "execute_result"
    }
   ],
   "source": [
    "prefix = 'https://drive.google.com/uc?export=view&id='\n",
    "gdown.download(prefix + file_id, \"nephro-dataset.zip\")"
   ]
  },
  {
   "cell_type": "code",
   "execution_count": null,
   "metadata": {},
   "outputs": [],
   "source": []
  }
 ],
 "metadata": {
  "kernelspec": {
   "display_name": "kidney",
   "language": "python",
   "name": "python3"
  },
  "language_info": {
   "codemirror_mode": {
    "name": "ipython",
    "version": 3
   },
   "file_extension": ".py",
   "mimetype": "text/x-python",
   "name": "python",
   "nbconvert_exporter": "python",
   "pygments_lexer": "ipython3",
   "version": "3.10.16"
  }
 },
 "nbformat": 4,
 "nbformat_minor": 2
}
